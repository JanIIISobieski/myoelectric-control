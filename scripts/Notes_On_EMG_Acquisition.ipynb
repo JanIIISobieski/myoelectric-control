{
 "cells": [
  {
   "cell_type": "markdown",
   "metadata": {},
   "source": [
    "# Notes on EMG data collection\n",
    "\n",
    "## Basis for the code\n",
    "\n",
    "The underlying framework for collecting is based on the [PyoConnect](http://www.fernandocosentino.net/pyoconnect/) written by Fernando Cosetino, which is in turn based on [myo-raw](https://github.com/dzhu/myo-raw) by dzhu. This is responsible for handling the bluetooth communications with the Myo band. The code is being modified to handle sending the EMG data to a custom neural network and returning an estimation of the pose. PyoConnect works in a Debian based environment, ideal for the RasberryPi and Ubuntu.\n",
    "\n",
    "## Method for collection\n",
    "\n",
    "Promising easy method for collecting the data comes from python `collections`: the `deque` data structure. It is a First-in-first-out data structure which can be set to a wanted length. In the case of the neural network in its current state, it is 200 elements, each of which contains data from all eight myoelectric sensors. Current plan is to send to the neural net once the mean across all the channels exceeds a certain critical threshold value.\n"
   ]
  },
  {
   "cell_type": "markdown",
   "metadata": {},
   "source": [
    "## Collection of rest data\n",
    "\n",
    "Sample mean intensity across all 8 channels of the Myo band during rest (200 samples each)\n",
    "\n",
    "`\n",
    "[array([18.075, 18.89 , 18.71 , 17.395, 18.98 , 18.48 , 16.965, 20.99 ]),\n",
    " array([17.865, 19.035, 18.985, 17.52 , 18.825, 18.135, 17.08 , 21.275]),\n",
    " array([19.5  , 18.835, 18.235, 18.21 , 19.075, 18.71 , 17.425, 25.81 ]),\n",
    " array([17.125, 18.185, 18.675, 17.635, 18.885, 18.32 , 16.865, 18.145]),\n",
    " array([17.74 , 18.745, 18.065, 17.42 , 18.925, 18.275, 17.225, 17.855]),\n",
    " array([17.285, 18.22 , 18.375, 17.57 , 18.455, 18.24 , 16.965, 17.68 ]),\n",
    " array([17.41 , 18.86 , 18.495, 17.845, 18.525, 18.72 , 16.695, 18.05 ]),\n",
    " array([17.71 , 18.99 , 18.83 , 17.785, 18.455, 18.095, 17.195, 18.21 ]),\n",
    " array([17.49 , 18.82 , 18.55 , 17.485, 18.79 , 18.1  , 16.805, 18.385]),\n",
    " array([19.02 , 19.215, 18.795, 18.145, 18.92 , 18.99 , 17.33 , 30.87 ])]\n",
    "`"
   ]
  },
  {
   "cell_type": "markdown",
   "metadata": {},
   "source": [
    "## Collection of closed hand grip\n",
    "\n",
    "Sample mean intensity across all 8 channels of the Myo band during closed hand grip (200 samples each)\n",
    "\n",
    "`\n",
    "[array([177.67 , 396.365, 139.35 ,  48.56 , 105.975, 809.26 , 158.86 ,\n",
    "        268.34 ]),\n",
    " array([155.985, 350.19 , 122.965,  38.72 ,  86.99 , 669.53 , 119.465,\n",
    "        224.73 ]),\n",
    " array([143.955, 291.275, 111.6  ,  35.915,  77.22 , 615.145, 113.215,\n",
    "        219.56 ]),\n",
    " array([143.28 , 294.69 , 110.6  ,  36.405,  77.495, 612.21 , 111.275,\n",
    "        223.135]),\n",
    " array([121.785, 260.505, 100.875,  34.95 ,  74.635, 611.705, 112.665,\n",
    "        249.71 ]),\n",
    " array([119.16 , 251.95 ,  98.09 ,  33.695,  78.765, 644.365, 111.095,\n",
    "        228.135]),\n",
    " array([119.445, 255.385, 103.41 ,  35.095,  76.7  , 627.655, 113.61 ,\n",
    "        224.16 ]),\n",
    " array([120.795, 290.18 , 105.5  ,  36.88 ,  87.63 , 666.205, 134.575,\n",
    "        217.53 ]),\n",
    " array([138.085, 322.63 , 120.295,  41.345,  95.23 , 672.86 , 123.33 ,\n",
    "        232.395])]\n",
    "`"
   ]
  },
  {
   "cell_type": "markdown",
   "metadata": {},
   "source": [
    "## Collection of pinch hand grip\n",
    "\n",
    "Sample mean intensity across all 8 channels of the Myo band during pinch grip (thumb-pointer finger together, other fingers straight) (200 samples each)\n",
    "\n",
    "`\n",
    "[array([194.79 , 260.28 ,  50.005,  27.7  ,  30.165, 126.64 ,  43.245,\n",
    "         56.92 ]),\n",
    " array([195.965, 272.205,  38.32 ,  26.005,  23.545, 123.075,  31.31 ,\n",
    "         41.085]),\n",
    " array([176.29 , 263.89 ,  45.72 ,  25.95 ,  23.275, 119.795,  32.74 ,\n",
    "         40.06 ]),\n",
    " array([170.91 , 257.805,  43.91 ,  25.5  ,  23.44 , 122.6  ,  31.245,\n",
    "         37.555]),\n",
    " array([167.47 , 242.8  ,  42.15 ,  24.555,  22.635, 115.525,  29.865,\n",
    "         38.095]),\n",
    " array([152.92 , 223.55 ,  36.005,  23.435,  22.185, 117.425,  30.075,\n",
    "         34.86 ]),\n",
    " array([153.22 , 229.145,  39.765,  23.985,  22.615, 117.325,  30.02 ,\n",
    "         35.415]),\n",
    " array([142.41 , 187.65 ,  33.035,  22.515,  22.84 , 109.735,  27.785,\n",
    "         32.47 ]),\n",
    " array([141.9  , 209.315,  42.98 ,  23.29 ,  22.66 , 119.555,  29.705,\n",
    "         32.825]),\n",
    " array([138.055, 204.42 ,  39.595,  22.085,  21.94 , 125.205,  30.505,\n",
    "         32.42 ]),\n",
    " array([136.35 , 212.515,  38.455,  22.8  ,  22.21 , 124.24 ,  30.69 ,\n",
    "         32.385]),\n",
    " array([149.835, 209.71 ,  37.81 ,  23.345,  22.295, 123.4  ,  30.965,\n",
    "         35.01 ]),\n",
    " array([155.585, 251.685,  52.365,  25.815,  23.835, 134.175,  34.345,\n",
    "         40.11 ]),\n",
    " array([146.84 , 219.   ,  43.99 ,  23.74 ,  22.49 , 134.79 ,  32.135,\n",
    "         36.295]),\n",
    " array([139.59 , 177.135,  38.465,  22.725,  22.465, 132.915,  31.585,\n",
    "         32.355]),\n",
    " array([135.91 , 154.23 ,  30.57 ,  22.19 ,  21.86 , 120.435,  29.4  ,\n",
    "         31.955]),\n",
    " array([127.26 , 131.235,  25.195,  21.76 ,  21.625, 115.545,  28.125,\n",
    "         30.78 ])]\n",
    "`"
   ]
  },
  {
   "cell_type": "markdown",
   "metadata": {},
   "source": []
  }
 ],
 "metadata": {
  "kernelspec": {
   "display_name": "Python 3",
   "language": "python",
   "name": "python3"
  },
  "language_info": {
   "codemirror_mode": {
    "name": "ipython",
    "version": 3
   },
   "file_extension": ".py",
   "mimetype": "text/x-python",
   "name": "python",
   "nbconvert_exporter": "python",
   "pygments_lexer": "ipython3",
   "version": "3.6.7"
  }
 },
 "nbformat": 4,
 "nbformat_minor": 2
}
